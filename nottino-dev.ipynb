{
 "cells": [
  {
   "cell_type": "code",
   "execution_count": 1,
   "id": "16ce1e08-cb79-4927-acf5-8491423820a2",
   "metadata": {},
   "outputs": [],
   "source": [
    "### Configuration\n",
    "\n",
    "MODEL_PATH = \"nottino.pth\""
   ]
  },
  {
   "cell_type": "code",
   "execution_count": 2,
   "id": "bf23a36f-1fb0-4583-8f75-f176f4dda462",
   "metadata": {},
   "outputs": [],
   "source": [
    "### Setup\n",
    "\n",
    "from blinkstick import blinkstick\n",
    "from jetcam.csi_camera import CSICamera\n",
    "from time import sleep\n",
    "import PIL.Image\n",
    "\n",
    "import torch\n",
    "import torchvision\n",
    "import torch.nn.functional as F\n",
    "import torchvision.transforms as transforms\n",
    "\n",
    "camera = CSICamera(width=224, height=224, capture_device=0)\n",
    "bs = blinkstick.find_first()\n",
    "\n",
    "device = torch.device('cuda')"
   ]
  },
  {
   "cell_type": "code",
   "execution_count": 3,
   "id": "ff4cf251-c63f-460b-bfb3-ca46f8b84c6f",
   "metadata": {
    "tags": []
   },
   "outputs": [],
   "source": [
    "### Prepare model\n",
    "\n",
    "model = torchvision.models.resnet18(pretrained=True)\n",
    "model.fc = torch.nn.Linear(512, 2)\n",
    "model = model.to(device)\n",
    "\n",
    "model.load_state_dict(torch.load(MODEL_PATH))\n",
    "model.eval()\n",
    "\n",
    "ASLEEP = 0\n",
    "AWAKE = 1\n",
    "\n",
    "def current_situation():\n",
    "    mean = torch.Tensor([0.485, 0.456, 0.406]).cuda()\n",
    "    std = torch.Tensor([0.229, 0.224, 0.225]).cuda()\n",
    "\n",
    "    device = torch.device('cuda')\n",
    "    r = PIL.Image.fromarray(image)\n",
    "    r = transforms.functional.to_tensor(r).to(device)\n",
    "    r.sub_(mean[:, None, None]).div_(std[:, None, None])\n",
    "    r = r[None, ...]\n",
    "\n",
    "    output = F.softmax(model(r), dim=1).detach().cpu().numpy().flatten().argmax()\n",
    "    return output"
   ]
  },
  {
   "cell_type": "code",
   "execution_count": 4,
   "id": "6829f5b7-7191-4dcc-a0be-fdbeb97e1257",
   "metadata": {
    "tags": []
   },
   "outputs": [
    {
     "data": {
      "application/vnd.jupyter.widget-view+json": {
       "model_id": "611bd9f6c8d04c659cd5c471def8553d",
       "version_major": 2,
       "version_minor": 0
      },
      "text/plain": [
       "Image(value=b'', format='jpeg')"
      ]
     },
     "metadata": {},
     "output_type": "display_data"
    }
   ],
   "source": [
    "### Instrumentation\n",
    "\n",
    "from ipywidgets import Image\n",
    "from IPython.display import display\n",
    "from jetcam.utils import bgr8_to_jpeg\n",
    "from imutils import rotate\n",
    "\n",
    "widget = Image(format='jpeg')\n",
    "image = camera.read()\n",
    "\n",
    "def update(change):\n",
    "    global image\n",
    "    image = change['new']\n",
    "    widget.value = bgr8_to_jpeg(rotate(image, 180))\n",
    "\n",
    "camera.observe(update, names='value')\n",
    "camera.running = True\n",
    "\n",
    "display(widget)"
   ]
  },
  {
   "cell_type": "code",
   "execution_count": 5,
   "id": "21efae7c-5665-4e25-a967-9d712b8ae46a",
   "metadata": {
    "tags": []
   },
   "outputs": [],
   "source": [
    "### Work\n",
    "\n",
    "while True:\n",
    "    try:\n",
    "        if current_situation() == AWAKE:\n",
    "            print(\"a\")\n",
    "        sleep(1)\n",
    "        \n",
    "    except KeyboardInterrupt:\n",
    "        break"
   ]
  },
  {
   "cell_type": "code",
   "execution_count": 6,
   "id": "e5e1e065-4650-4dd9-8baa-4224a9ed7ff1",
   "metadata": {},
   "outputs": [],
   "source": [
    "### Teardown\n",
    "\n",
    "bs.turn_off()\n",
    "\n",
    "camera.unobserve(update, names='value')\n",
    "camera.running = False\n",
    "camera.cap.release()"
   ]
  },
  {
   "cell_type": "code",
   "execution_count": null,
   "id": "2bccc8cf-e63d-4d73-bee5-4120309f9399",
   "metadata": {},
   "outputs": [],
   "source": []
  }
 ],
 "metadata": {
  "kernelspec": {
   "display_name": "Python 3",
   "language": "python",
   "name": "python3"
  },
  "language_info": {
   "codemirror_mode": {
    "name": "ipython",
    "version": 3
   },
   "file_extension": ".py",
   "mimetype": "text/x-python",
   "name": "python",
   "nbconvert_exporter": "python",
   "pygments_lexer": "ipython3",
   "version": "3.6.9"
  }
 },
 "nbformat": 4,
 "nbformat_minor": 5
}
