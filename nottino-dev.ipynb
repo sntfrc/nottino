{
 "cells": [
  {
   "cell_type": "code",
   "execution_count": null,
   "id": "497b1746-fb8a-4875-a5d6-d50a6ad97ae8",
   "metadata": {},
   "outputs": [],
   "source": [
    "### Setup\n",
    "\n",
    "from blinkstick import blinkstick\n",
    "from jetcam.csi_camera import CSICamera\n",
    "from time import sleep\n",
    "\n",
    "camera = CSICamera(width=224, height=224, capture_device=0)\n",
    "bs = blinkstick.find_first()"
   ]
  },
  {
   "cell_type": "code",
   "execution_count": null,
   "id": "ee3fee0c-3fee-45b3-bc10-91d5835f04d3",
   "metadata": {
    "tags": []
   },
   "outputs": [],
   "source": [
    "### Instrumentation\n",
    "\n",
    "from ipywidgets import Image\n",
    "from IPython.display import display\n",
    "from jetcam.utils import bgr8_to_jpeg\n",
    "from imutils import rotate\n",
    "\n",
    "widget = Image(format='jpeg')\n",
    "image = camera.read()\n",
    "\n",
    "def update(change):\n",
    "    global image\n",
    "    image = change['new']\n",
    "    widget.value = bgr8_to_jpeg(rotate(image, 180))\n",
    "\n",
    "camera.observe(update, names='value')\n",
    "camera.running = True\n",
    "\n",
    "display(widget)"
   ]
  },
  {
   "cell_type": "code",
   "execution_count": null,
   "id": "f219d155-173f-40fd-82fc-e09363488db8",
   "metadata": {
    "tags": []
   },
   "outputs": [],
   "source": [
    "### Work\n",
    "\n",
    "while True:\n",
    "    try:\n",
    "        bs.pulse(name=\"orange\", duration=100, steps=250)\n",
    "        sleep(1)\n",
    "        \n",
    "    except KeyboardInterrupt:\n",
    "        break"
   ]
  },
  {
   "cell_type": "code",
   "execution_count": null,
   "id": "e5e1e065-4650-4dd9-8baa-4224a9ed7ff1",
   "metadata": {},
   "outputs": [],
   "source": [
    "### Teardown\n",
    "\n",
    "bs.turn_off()\n",
    "\n",
    "camera.unobserve(update, names='value')\n",
    "camera.running = False\n",
    "camera.cap.release()"
   ]
  },
  {
   "cell_type": "code",
   "execution_count": null,
   "id": "be5fa3c0-0eb4-4052-b570-8c421e4f7d44",
   "metadata": {},
   "outputs": [],
   "source": []
  }
 ],
 "metadata": {
  "kernelspec": {
   "display_name": "Python 3",
   "language": "python",
   "name": "python3"
  },
  "language_info": {
   "codemirror_mode": {
    "name": "ipython",
    "version": 3
   },
   "file_extension": ".py",
   "mimetype": "text/x-python",
   "name": "python",
   "nbconvert_exporter": "python",
   "pygments_lexer": "ipython3",
   "version": "3.6.9"
  }
 },
 "nbformat": 4,
 "nbformat_minor": 5
}
